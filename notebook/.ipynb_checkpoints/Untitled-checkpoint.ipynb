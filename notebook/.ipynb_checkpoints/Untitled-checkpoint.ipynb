{
 "cells": [
  {
   "cell_type": "code",
   "execution_count": 11,
   "id": "42865f77-3837-4b93-b561-2aaf151de785",
   "metadata": {},
   "outputs": [],
   "source": [
    "import os\n",
    "import pandas as pd\n",
    "import numpy as np"
   ]
  },
  {
   "cell_type": "code",
   "execution_count": 12,
   "id": "f7820c62-8d57-4092-a42d-bc2f77c12b9b",
   "metadata": {},
   "outputs": [
    {
     "data": {
      "text/plain": [
       "'/media/cong1989/Expansion1/work_for_autonomous/crypto_stream/notebook'"
      ]
     },
     "execution_count": 12,
     "metadata": {},
     "output_type": "execute_result"
    }
   ],
   "source": [
    "pwd"
   ]
  },
  {
   "cell_type": "code",
   "execution_count": 13,
   "id": "930fe633-232f-408b-88f8-fb744befb1c6",
   "metadata": {},
   "outputs": [],
   "source": [
    "inst = 'ADAUSDT'\n",
    "df_sample = pd.read_json(f'/media/cong1989/Expansion1/work_for_autonomous/crypto_stream_data/sampled/binance-futures/quote/{inst}/2025-01-16_sampled.jsonl', lines=True)\n",
    "df_tick = pd.read_json(f'/media/cong1989/Expansion1/work_for_autonomous/crypto_stream_data/binance-futures/quote/{inst}/2025-01-16.jsonl', lines = True)\n",
    "df_sample['sampling_timestamp'] = pd.to_datetime(df_sample['sampling_timestamp'])\n",
    "df_sample['timestamp'] = pd.to_datetime(df_sample['timestamp'])\n",
    "df_tick['sampling_timestamp'] = pd.to_datetime(df_tick['sampling_timestamp'])\n",
    "df_tick['receive_timestamp'] = pd.to_datetime(df_tick['receive_timestamp'])\n",
    "\n",
    "df_tick['timestamp'] = pd.to_datetime(df_tick['timestamp'])"
   ]
  },
  {
   "cell_type": "code",
   "execution_count": 14,
   "id": "2fac8ea9-d490-4f0b-84d3-7332e37a14ab",
   "metadata": {},
   "outputs": [
    {
     "data": {
      "text/plain": [
       "(Timedelta('0 days 00:00:00.041000'), Timedelta('0 days 00:00:00.005000'))"
      ]
     },
     "execution_count": 14,
     "metadata": {},
     "output_type": "execute_result"
    }
   ],
   "source": [
    "df_tick['timestamp'].diff().min(), df_tick['receive_timestamp'].diff().min()"
   ]
  },
  {
   "cell_type": "code",
   "execution_count": 15,
   "id": "ad175a99-8bee-48d1-93c2-7b2ea62ccb93",
   "metadata": {},
   "outputs": [
    {
     "data": {
      "text/html": [
       "<div>\n",
       "<style scoped>\n",
       "    .dataframe tbody tr th:only-of-type {\n",
       "        vertical-align: middle;\n",
       "    }\n",
       "\n",
       "    .dataframe tbody tr th {\n",
       "        vertical-align: top;\n",
       "    }\n",
       "\n",
       "    .dataframe thead th {\n",
       "        text-align: right;\n",
       "    }\n",
       "</style>\n",
       "<table border=\"1\" class=\"dataframe\">\n",
       "  <thead>\n",
       "    <tr style=\"text-align: right;\">\n",
       "      <th></th>\n",
       "      <th>timestamp</th>\n",
       "      <th>local_timestamp</th>\n",
       "      <th>receive_timestamp</th>\n",
       "      <th>sampling_timestamp</th>\n",
       "      <th>symbol</th>\n",
       "      <th>exchange</th>\n",
       "      <th>type</th>\n",
       "      <th>bid_price</th>\n",
       "      <th>bid_size</th>\n",
       "      <th>ask_price</th>\n",
       "      <th>ask_size</th>\n",
       "      <th>spread</th>\n",
       "      <th>spread_bps</th>\n",
       "      <th>mid_price</th>\n",
       "    </tr>\n",
       "  </thead>\n",
       "  <tbody>\n",
       "  </tbody>\n",
       "</table>\n",
       "</div>"
      ],
      "text/plain": [
       "Empty DataFrame\n",
       "Columns: [timestamp, local_timestamp, receive_timestamp, sampling_timestamp, symbol, exchange, type, bid_price, bid_size, ask_price, ask_size, spread, spread_bps, mid_price]\n",
       "Index: []"
      ]
     },
     "execution_count": 15,
     "metadata": {},
     "output_type": "execute_result"
    }
   ],
   "source": [
    "df_tick[df_tick['timestamp'].diff()< '00:00:00']"
   ]
  },
  {
   "cell_type": "code",
   "execution_count": 16,
   "id": "608f9cb1-d9be-4e3c-bae8-1708e991aa3c",
   "metadata": {},
   "outputs": [
    {
     "data": {
      "text/html": [
       "<div>\n",
       "<style scoped>\n",
       "    .dataframe tbody tr th:only-of-type {\n",
       "        vertical-align: middle;\n",
       "    }\n",
       "\n",
       "    .dataframe tbody tr th {\n",
       "        vertical-align: top;\n",
       "    }\n",
       "\n",
       "    .dataframe thead th {\n",
       "        text-align: right;\n",
       "    }\n",
       "</style>\n",
       "<table border=\"1\" class=\"dataframe\">\n",
       "  <thead>\n",
       "    <tr style=\"text-align: right;\">\n",
       "      <th></th>\n",
       "      <th>timestamp</th>\n",
       "      <th>local_timestamp</th>\n",
       "      <th>receive_timestamp</th>\n",
       "      <th>sampling_timestamp</th>\n",
       "      <th>symbol</th>\n",
       "      <th>exchange</th>\n",
       "      <th>type</th>\n",
       "      <th>bid_price</th>\n",
       "      <th>bid_size</th>\n",
       "      <th>ask_price</th>\n",
       "      <th>ask_size</th>\n",
       "      <th>spread</th>\n",
       "      <th>spread_bps</th>\n",
       "      <th>mid_price</th>\n",
       "    </tr>\n",
       "  </thead>\n",
       "  <tbody>\n",
       "  </tbody>\n",
       "</table>\n",
       "</div>"
      ],
      "text/plain": [
       "Empty DataFrame\n",
       "Columns: [timestamp, local_timestamp, receive_timestamp, sampling_timestamp, symbol, exchange, type, bid_price, bid_size, ask_price, ask_size, spread, spread_bps, mid_price]\n",
       "Index: []"
      ]
     },
     "execution_count": 16,
     "metadata": {},
     "output_type": "execute_result"
    }
   ],
   "source": [
    "df_tick.iloc[83265:83280]"
   ]
  },
  {
   "cell_type": "code",
   "execution_count": null,
   "id": "0bd8d4fd-8291-4d85-8446-aaa592e3a18a",
   "metadata": {},
   "outputs": [],
   "source": []
  }
 ],
 "metadata": {
  "kernelspec": {
   "display_name": "Python 3 (ipykernel)",
   "language": "python",
   "name": "python3"
  },
  "language_info": {
   "codemirror_mode": {
    "name": "ipython",
    "version": 3
   },
   "file_extension": ".py",
   "mimetype": "text/x-python",
   "name": "python",
   "nbconvert_exporter": "python",
   "pygments_lexer": "ipython3",
   "version": "3.13.0"
  }
 },
 "nbformat": 4,
 "nbformat_minor": 5
}
